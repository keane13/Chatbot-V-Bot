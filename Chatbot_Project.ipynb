{
  "nbformat": 4,
  "nbformat_minor": 0,
  "metadata": {
    "colab": {
      "name": "Chatbot_Project.ipynb",
      "provenance": [],
      "collapsed_sections": []
    },
    "kernelspec": {
      "name": "python3",
      "display_name": "Python 3"
    },
    "accelerator": "TPU"
  },
  "cells": [
    {
      "cell_type": "markdown",
      "source": [
        "# Chatbot V-bot Project with Deep Learning\n"
      ],
      "metadata": {
        "id": "zUbuIiPwBitj"
      }
    },
    {
      "cell_type": "code",
      "metadata": {
        "id": "nMcYmPQF3krn",
        "colab": {
          "base_uri": "https://localhost:8080/"
        },
        "outputId": "fd4f28fd-f045-4c6b-93e0-234b4fb06172"
      },
      "source": [
        "# Libraries needed for NLP\n",
        "import nltk\n",
        "nltk.download('punkt')\n",
        "from nltk.stem import PorterStemmer\n",
        "stemmer = PorterStemmer()\n",
        "\n",
        "# Libraries needed for Tensorflow processing\n",
        "import tensorflow as tf\n",
        "import keras\n",
        "from keras.models import Sequential\n",
        "from keras.layers import Dense\n",
        "from keras.layers import Dropout\n",
        "from keras.layers import LSTM\n",
        "import numpy as np\n",
        "import random\n",
        "import json"
      ],
      "execution_count": null,
      "outputs": [
        {
          "output_type": "stream",
          "name": "stdout",
          "text": [
            "[nltk_data] Downloading package punkt to /root/nltk_data...\n",
            "[nltk_data]   Unzipping tokenizers/punkt.zip.\n"
          ]
        }
      ]
    },
    {
      "cell_type": "code",
      "metadata": {
        "id": "zitZRhjq9Vqu"
      },
      "source": [
        "#load the intents.json file from your local device\n",
        "from google.colab import files\n"
      ],
      "execution_count": null,
      "outputs": []
    },
    {
      "cell_type": "code",
      "metadata": {
        "id": "sBEuh9TEGBo7"
      },
      "source": [
        "# import our chat-bot intents file\n",
        "with open('intents.json') as json_data:\n",
        "    intents = json.load(json_data)"
      ],
      "execution_count": null,
      "outputs": []
    },
    {
      "cell_type": "code",
      "metadata": {
        "id": "mpFsVWPKGKbI",
        "colab": {
          "base_uri": "https://localhost:8080/"
        },
        "outputId": "176862aa-13b4-459b-d7db-3cfcb037692f"
      },
      "source": [
        "intents"
      ],
      "execution_count": null,
      "outputs": [
        {
          "output_type": "execute_result",
          "data": {
            "text/plain": [
              "{'intents': [{'context_set': '',\n",
              "   'patterns': ['Hi', 'How are you', 'Is anyone there?', 'Hello', 'Good day'],\n",
              "   'responses': ['Hello, thanks for visiting, I am V-Net, a Virtual Customer Service.',\n",
              "    'Good to see you again, I am V-Net, a Virtual Customer Service.',\n",
              "    'Hi there, how can I help?'],\n",
              "   'tag': 'greeting'},\n",
              "  {'patterns': ['Bye', 'See you later', 'Goodbye'],\n",
              "   'responses': ['See you later, thanks for visiting',\n",
              "    'Have a nice day',\n",
              "    'Bye! Come back again soon.'],\n",
              "   'tag': 'goodbye'},\n",
              "  {'patterns': ['Thanks', 'Thank you very Much', \"That's helpful\"],\n",
              "   'responses': ['Happy to help!', 'Any time!', 'My pleasure'],\n",
              "   'tag': 'thanks'},\n",
              "  {'patterns': ['Who built this chatbot?',\n",
              "    'Tell me about Chatbot',\n",
              "    'What is this chatbot name?'],\n",
              "   'responses': ['Hi, I am Chatbot Virtual Customer Service. Designed by Simon Surya.',\n",
              "    'Thanks for asking. I am designed by Simon Surya',\n",
              "    'I am a chatbot Virtual Customer Service, how can I help You.'],\n",
              "   'tag': 'chatbot'},\n",
              "  {'patterns': ['What is your location?',\n",
              "    'Where are you located?',\n",
              "    'What is your address?'],\n",
              "   'responses': [\"We are from World's largest Archipelago Indonesia.\",\n",
              "    'You can visit Indonesia to meet us',\n",
              "    'Thans for your Interest. I live in Indonesia.'],\n",
              "   'tag': 'location'},\n",
              "  {'patterns': ['Where can we connect',\n",
              "    'How can i reach out to you?',\n",
              "    'Is there any way we can connect'],\n",
              "   'responses': ['You can connect us our website www.Fast_Connect.com',\n",
              "    'You can visit www.Fast_Connect.com.'],\n",
              "   'tag': 'connect'},\n",
              "  {'patterns': ['Which is your favourite movie?',\n",
              "    'Suggest me some movies',\n",
              "    'Recommend movies'],\n",
              "   'responses': ['3 idiots',\n",
              "    'Titanic',\n",
              "    'Jungle Cruise',\n",
              "    'Jumanji',\n",
              "    'Star Wars',\n",
              "    'Avatar',\n",
              "    'Avengers',\n",
              "    'Ludo'],\n",
              "   'tag': 'movies'},\n",
              "  {'patterns': ['Who are you?', 'Tell me about Yourself', 'What is this?'],\n",
              "   'responses': ['Hi, I am Simon . Nice to meet you. I made this chatbot for fun .',\n",
              "    'Thanks for asking. I am Simon Surya, coder by profession but ML enthusiast by passion.'],\n",
              "   'tag': 'about'},\n",
              "  {'patterns': ['How can you help me?',\n",
              "    'Tell me about this information',\n",
              "    'Can you Help me?'],\n",
              "   'responses': ['yes, I can. What can i do for you? .',\n",
              "    'Thanks for asking. For more information About our Services please check our website'],\n",
              "   'tag': 'help'},\n",
              "  {'patterns': ['How much is it?',\n",
              "    'what payment do you provide?',\n",
              "    'How much it cost?',\n",
              "    'Can I pay credit, cash or debit?'],\n",
              "   'responses': ['Our Services is around 2 million rupiah.',\n",
              "    'You can pay credit and debit on our link in our web.',\n",
              "    'For Package Ulti is around 350.000, Super 400.000 every month.'],\n",
              "   'tag': 'payment'},\n",
              "  {'patterns': ['What type of service you have?',\n",
              "    'What do you sell here',\n",
              "    'What package do you have?'],\n",
              "   'responses': ['Our Services is providing Internet Package Connection through Home and Appartemen',\n",
              "    'We Sell Internet Package Connection, Package A for 20 mbs Internet Services, Package Ulti 30 mbps Inter services',\n",
              "    'For more information visit out website.'],\n",
              "   'tag': 'service'}]}"
            ]
          },
          "metadata": {},
          "execution_count": 4
        }
      ]
    },
    {
      "cell_type": "code",
      "metadata": {
        "id": "jUNlDhkSGVL1"
      },
      "source": [
        "words = []\n",
        "classes = []\n",
        "documents = []\n",
        "ignore = ['?']\n",
        "# loop through each sentence in the intent's patterns\n",
        "for intent in intents['intents']:\n",
        "    for pattern in intent['patterns']:\n",
        "        # tokenize each and every word in the sentence\n",
        "        w = nltk.word_tokenize(pattern)\n",
        "        # add word to the words list\n",
        "        words.extend(w)\n",
        "        # add word(s) to documents\n",
        "        documents.append((w, intent['tag']))\n",
        "        # add tags to our classes list\n",
        "        if intent['tag'] not in classes:\n",
        "            classes.append(intent['tag'])"
      ],
      "execution_count": null,
      "outputs": []
    },
    {
      "cell_type": "code",
      "metadata": {
        "id": "GO7b9xTwHJMJ",
        "colab": {
          "base_uri": "https://localhost:8080/"
        },
        "outputId": "bdd59c59-4fb0-4271-9878-aa5abb3739c6"
      },
      "source": [
        "# Perform stemming and lower each word as well as remove duplicates\n",
        "words = [stemmer.stem(w.lower()) for w in words if w not in ignore]\n",
        "words = sorted(list(set(words)))\n",
        "\n",
        "# remove duplicate classes\n",
        "classes = sorted(list(set(classes)))\n",
        "\n",
        "print (len(documents), \"documents\")\n",
        "print (len(classes), \"classes\", classes)\n",
        "print (len(words), \"unique stemmed words\", words)"
      ],
      "execution_count": null,
      "outputs": [
        {
          "output_type": "stream",
          "name": "stdout",
          "text": [
            "36 documents\n",
            "11 classes ['about', 'chatbot', 'connect', 'goodbye', 'greeting', 'help', 'location', 'movies', 'payment', 'service', 'thanks']\n",
            "68 unique stemmed words [\"'s\", ',', 'about', 'address', 'ani', 'anyon', 'are', 'built', 'bye', 'can', 'cash', 'chatbot', 'connect', 'cost', 'credit', 'day', 'debit', 'do', 'favourit', 'good', 'goodby', 'have', 'hello', 'help', 'here', 'hi', 'how', 'i', 'inform', 'is', 'it', 'later', 'locat', 'me', 'movi', 'much', 'name', 'of', 'or', 'out', 'packag', 'pay', 'payment', 'provid', 'reach', 'recommend', 'see', 'sell', 'servic', 'some', 'suggest', 'tell', 'thank', 'that', 'there', 'thi', 'to', 'type', 'veri', 'way', 'we', 'what', 'where', 'which', 'who', 'you', 'your', 'yourself']\n"
          ]
        }
      ]
    },
    {
      "cell_type": "code",
      "metadata": {
        "id": "vziuGlP1Iq-P",
        "colab": {
          "base_uri": "https://localhost:8080/"
        },
        "outputId": "1186a727-365b-4915-a357-bb2559db8886"
      },
      "source": [
        "# create training data\n",
        "training = []\n",
        "output = []\n",
        "# create an empty array for output\n",
        "output_empty = [0] * len(classes)\n",
        "\n",
        "# create training set, bag of words for each sentence\n",
        "for doc in documents:\n",
        "    # initialize bag of words\n",
        "    bag = []\n",
        "    # list of tokenized words for the pattern\n",
        "    pattern_words = doc[0]\n",
        "    # stemming each word\n",
        "    pattern_words = [stemmer.stem(word.lower()) for word in pattern_words]\n",
        "    # create bag of words array\n",
        "    for w in words:\n",
        "        bag.append(1) if w in pattern_words else bag.append(0)\n",
        "\n",
        "    # output is '1' for current tag and '0' for rest of other tags\n",
        "    output_row = list(output_empty)\n",
        "    output_row[classes.index(doc[1])] = 1\n",
        "\n",
        "    training.append([bag, output_row])\n",
        "\n",
        "# shuffling features and turning it into np.array\n",
        "random.shuffle(training)\n",
        "training = np.array(training)\n",
        "\n",
        "# creating training lists\n",
        "train_x = list(training[:,0])\n",
        "train_y = list(training[:,1])"
      ],
      "execution_count": null,
      "outputs": [
        {
          "output_type": "stream",
          "name": "stderr",
          "text": [
            "/usr/local/lib/python3.7/dist-packages/ipykernel_launcher.py:27: VisibleDeprecationWarning: Creating an ndarray from ragged nested sequences (which is a list-or-tuple of lists-or-tuples-or ndarrays with different lengths or shapes) is deprecated. If you meant to do this, you must specify 'dtype=object' when creating the ndarray.\n"
          ]
        }
      ]
    },
    {
      "cell_type": "code",
      "metadata": {
        "id": "42dWr6eG_xs0"
      },
      "source": [
        "model = tf.keras.Sequential()\n",
        "model.add(tf.keras.layers.Dense(10,input_shape=(len(train_x[0]),)))\n",
        "model.add(tf.keras.layers.Dense(12))\n",
        "model.add(tf.keras.layers.Dense(len(train_y[0]), activation='softmax'))\n",
        "model.compile(tf.keras.optimizers.Adam(), loss='categorical_crossentropy', metrics=['accuracy']) "
      ],
      "execution_count": null,
      "outputs": []
    },
    {
      "cell_type": "code",
      "metadata": {
        "colab": {
          "base_uri": "https://localhost:8080/"
        },
        "id": "T8fPUE4kBID7",
        "outputId": "8c5b0be6-c651-4ce6-aa5f-a3107a70c062"
      },
      "source": [
        "model.fit(np.array(train_x), np.array(train_y), epochs=50, batch_size=8, verbose=1)\n",
        "model.save(\"model.pkl\")"
      ],
      "execution_count": null,
      "outputs": [
        {
          "output_type": "stream",
          "name": "stdout",
          "text": [
            "Epoch 1/50\n",
            "5/5 [==============================] - 1s 4ms/step - loss: 2.4075 - accuracy: 0.0556\n",
            "Epoch 2/50\n",
            "5/5 [==============================] - 0s 3ms/step - loss: 2.3821 - accuracy: 0.0833\n",
            "Epoch 3/50\n",
            "5/5 [==============================] - 0s 4ms/step - loss: 2.3617 - accuracy: 0.0833\n",
            "Epoch 4/50\n",
            "5/5 [==============================] - 0s 4ms/step - loss: 2.3426 - accuracy: 0.1111\n",
            "Epoch 5/50\n",
            "5/5 [==============================] - 0s 4ms/step - loss: 2.3223 - accuracy: 0.1389\n",
            "Epoch 6/50\n",
            "5/5 [==============================] - 0s 4ms/step - loss: 2.3031 - accuracy: 0.1389\n",
            "Epoch 7/50\n",
            "5/5 [==============================] - 0s 3ms/step - loss: 2.2851 - accuracy: 0.1667\n",
            "Epoch 8/50\n",
            "5/5 [==============================] - 0s 3ms/step - loss: 2.2655 - accuracy: 0.1667\n",
            "Epoch 9/50\n",
            "5/5 [==============================] - 0s 4ms/step - loss: 2.2468 - accuracy: 0.2222\n",
            "Epoch 10/50\n",
            "5/5 [==============================] - 0s 4ms/step - loss: 2.2285 - accuracy: 0.2778\n",
            "Epoch 11/50\n",
            "5/5 [==============================] - 0s 3ms/step - loss: 2.2098 - accuracy: 0.3333\n",
            "Epoch 12/50\n",
            "5/5 [==============================] - 0s 3ms/step - loss: 2.1907 - accuracy: 0.3333\n",
            "Epoch 13/50\n",
            "5/5 [==============================] - 0s 3ms/step - loss: 2.1724 - accuracy: 0.3333\n",
            "Epoch 14/50\n",
            "5/5 [==============================] - 0s 3ms/step - loss: 2.1526 - accuracy: 0.3611\n",
            "Epoch 15/50\n",
            "5/5 [==============================] - 0s 3ms/step - loss: 2.1331 - accuracy: 0.3889\n",
            "Epoch 16/50\n",
            "5/5 [==============================] - 0s 5ms/step - loss: 2.1139 - accuracy: 0.3889\n",
            "Epoch 17/50\n",
            "5/5 [==============================] - 0s 4ms/step - loss: 2.0935 - accuracy: 0.3889\n",
            "Epoch 18/50\n",
            "5/5 [==============================] - 0s 3ms/step - loss: 2.0719 - accuracy: 0.4167\n",
            "Epoch 19/50\n",
            "5/5 [==============================] - 0s 4ms/step - loss: 2.0516 - accuracy: 0.4444\n",
            "Epoch 20/50\n",
            "5/5 [==============================] - 0s 3ms/step - loss: 2.0304 - accuracy: 0.4444\n",
            "Epoch 21/50\n",
            "5/5 [==============================] - 0s 3ms/step - loss: 2.0083 - accuracy: 0.4722\n",
            "Epoch 22/50\n",
            "5/5 [==============================] - 0s 4ms/step - loss: 1.9855 - accuracy: 0.5000\n",
            "Epoch 23/50\n",
            "5/5 [==============================] - 0s 3ms/step - loss: 1.9630 - accuracy: 0.5278\n",
            "Epoch 24/50\n",
            "5/5 [==============================] - 0s 4ms/step - loss: 1.9400 - accuracy: 0.5278\n",
            "Epoch 25/50\n",
            "5/5 [==============================] - 0s 4ms/step - loss: 1.9158 - accuracy: 0.5556\n",
            "Epoch 26/50\n",
            "5/5 [==============================] - 0s 3ms/step - loss: 1.8923 - accuracy: 0.5833\n",
            "Epoch 27/50\n",
            "5/5 [==============================] - 0s 4ms/step - loss: 1.8672 - accuracy: 0.5833\n",
            "Epoch 28/50\n",
            "5/5 [==============================] - 0s 4ms/step - loss: 1.8429 - accuracy: 0.6389\n",
            "Epoch 29/50\n",
            "5/5 [==============================] - 0s 5ms/step - loss: 1.8169 - accuracy: 0.7222\n",
            "Epoch 30/50\n",
            "5/5 [==============================] - 0s 4ms/step - loss: 1.7909 - accuracy: 0.7222\n",
            "Epoch 31/50\n",
            "5/5 [==============================] - 0s 3ms/step - loss: 1.7661 - accuracy: 0.6944\n",
            "Epoch 32/50\n",
            "5/5 [==============================] - 0s 4ms/step - loss: 1.7401 - accuracy: 0.7222\n",
            "Epoch 33/50\n",
            "5/5 [==============================] - 0s 3ms/step - loss: 1.7120 - accuracy: 0.7500\n",
            "Epoch 34/50\n",
            "5/5 [==============================] - 0s 3ms/step - loss: 1.6853 - accuracy: 0.7778\n",
            "Epoch 35/50\n",
            "5/5 [==============================] - 0s 4ms/step - loss: 1.6574 - accuracy: 0.7778\n",
            "Epoch 36/50\n",
            "5/5 [==============================] - 0s 4ms/step - loss: 1.6307 - accuracy: 0.7778\n",
            "Epoch 37/50\n",
            "5/5 [==============================] - 0s 3ms/step - loss: 1.6031 - accuracy: 0.7778\n",
            "Epoch 38/50\n",
            "5/5 [==============================] - 0s 3ms/step - loss: 1.5736 - accuracy: 0.7778\n",
            "Epoch 39/50\n",
            "5/5 [==============================] - 0s 3ms/step - loss: 1.5448 - accuracy: 0.8056\n",
            "Epoch 40/50\n",
            "5/5 [==============================] - 0s 4ms/step - loss: 1.5168 - accuracy: 0.8333\n",
            "Epoch 41/50\n",
            "5/5 [==============================] - 0s 4ms/step - loss: 1.4873 - accuracy: 0.8333\n",
            "Epoch 42/50\n",
            "5/5 [==============================] - 0s 3ms/step - loss: 1.4587 - accuracy: 0.8611\n",
            "Epoch 43/50\n",
            "5/5 [==============================] - 0s 4ms/step - loss: 1.4301 - accuracy: 0.8611\n",
            "Epoch 44/50\n",
            "5/5 [==============================] - 0s 4ms/step - loss: 1.4005 - accuracy: 0.8611\n",
            "Epoch 45/50\n",
            "5/5 [==============================] - 0s 4ms/step - loss: 1.3716 - accuracy: 0.8611\n",
            "Epoch 46/50\n",
            "5/5 [==============================] - 0s 3ms/step - loss: 1.3434 - accuracy: 0.8611\n",
            "Epoch 47/50\n",
            "5/5 [==============================] - 0s 3ms/step - loss: 1.3129 - accuracy: 0.8611\n",
            "Epoch 48/50\n",
            "5/5 [==============================] - 0s 4ms/step - loss: 1.2833 - accuracy: 0.8611\n",
            "Epoch 49/50\n",
            "5/5 [==============================] - 0s 4ms/step - loss: 1.2550 - accuracy: 0.8611\n",
            "Epoch 50/50\n",
            "5/5 [==============================] - 0s 4ms/step - loss: 1.2257 - accuracy: 0.8611\n",
            "INFO:tensorflow:Assets written to: model.pkl/assets\n"
          ]
        }
      ]
    },
    {
      "cell_type": "code",
      "metadata": {
        "id": "ha2RGmK1Zz5l"
      },
      "source": [
        "import pickle\n",
        "pickle.dump( {'words':words, 'classes':classes}, open( \"training_data\", \"wb\" ) )"
      ],
      "execution_count": null,
      "outputs": []
    },
    {
      "cell_type": "code",
      "metadata": {
        "id": "jIrMS64WCVhm"
      },
      "source": [
        "from keras.models import load_model\n",
        "model = load_model(\"model.pkl\")"
      ],
      "execution_count": null,
      "outputs": []
    },
    {
      "cell_type": "code",
      "metadata": {
        "id": "ux9WbDZvbAzf"
      },
      "source": [
        "# restoring all the data structures\n",
        "data = pickle.load( open( \"training_data\", \"rb\" ) )\n",
        "words = data['words']\n",
        "classes = data['classes']"
      ],
      "execution_count": null,
      "outputs": []
    },
    {
      "cell_type": "code",
      "metadata": {
        "id": "Ms17AFyEbEjt"
      },
      "source": [
        "with open('intents.json') as json_data:\n",
        "    intents = json.load(json_data)"
      ],
      "execution_count": null,
      "outputs": []
    },
    {
      "cell_type": "code",
      "metadata": {
        "id": "VB27k_vQbhu4"
      },
      "source": [
        "def clean_up_sentence(sentence):\n",
        "    # tokenizing the pattern\n",
        "    sentence_words = nltk.word_tokenize(sentence)\n",
        "    # stemming each word\n",
        "    sentence_words = [stemmer.stem(word.lower()) for word in sentence_words]\n",
        "    return sentence_words\n",
        "\n",
        "# returning bag of words array: 0 or 1 for each word in the bag that exists in the sentence\n",
        "def bow(sentence, words):\n",
        "    # tokenizing the pattern\n",
        "    sentence_words = clean_up_sentence(sentence)\n",
        "    # generating bag of words\n",
        "    bag = [0]*len(words)  \n",
        "    for s in sentence_words:\n",
        "        for i,w in enumerate(words):\n",
        "            if w == s: \n",
        "                bag[i] = 1\n",
        "    bag=np.array(bag)\n",
        "    return(bag)"
      ],
      "execution_count": null,
      "outputs": []
    },
    {
      "cell_type": "code",
      "metadata": {
        "id": "3lToEtkTb5Pr"
      },
      "source": [
        "ERROR_THRESHOLD = 0.30\n",
        "def classify(sentence):\n",
        "    # generate probabilities from the model\n",
        "    bag = bow(sentence, words)\n",
        "    results = model.predict(np.array([bag]))\n",
        "    # filter out predictions below a threshold\n",
        "    results = [[i,r] for i,r in enumerate(results[0]) if r>ERROR_THRESHOLD]\n",
        "    # sort by strength of probability\n",
        "    results.sort(key=lambda x: x[1], reverse=True)\n",
        "    return_list = []\n",
        "    for r in results:\n",
        "        return_list.append((classes[r[0]], r[1]))\n",
        "    # return tuple of intent and probability\n",
        "    return return_list\n",
        "\n",
        "def response(sentence):\n",
        "    results = classify(sentence)\n",
        "    # if we have a classification then find the matching intent tag\n",
        "    if results:\n",
        "        # loop as long as there are matches to process\n",
        "        while results:\n",
        "            for i in intents['intents']:\n",
        "                # find a tag matching the first result\n",
        "                if i['tag'] == results[0][0]:\n",
        "                    # a random response from the intent\n",
        "                    return print(random.choice(i['responses']))\n",
        "\n",
        "            results.pop(0)"
      ],
      "execution_count": null,
      "outputs": []
    },
    {
      "cell_type": "code",
      "metadata": {
        "id": "3PNLGpl0gKCF",
        "colab": {
          "base_uri": "https://localhost:8080/"
        },
        "outputId": "04115247-7d7b-48ad-8b21-99a5394c5068"
      },
      "source": [
        "response('how much does it cost?')"
      ],
      "execution_count": null,
      "outputs": [
        {
          "output_type": "stream",
          "name": "stdout",
          "text": [
            "For Package Ulti is around 350.000, Super 400.000 every month.\n"
          ]
        }
      ]
    },
    {
      "cell_type": "code",
      "metadata": {
        "colab": {
          "base_uri": "https://localhost:8080/"
        },
        "id": "kUzPSymMida8",
        "outputId": "d899e06b-a493-4fc7-e066-61f30defd0b3"
      },
      "source": [
        "response(\"Who are you?\")"
      ],
      "execution_count": null,
      "outputs": [
        {
          "output_type": "stream",
          "name": "stdout",
          "text": [
            "Hello, thanks for visiting, I am V-Net, a Virtual Customer Service.\n"
          ]
        }
      ]
    },
    {
      "cell_type": "code",
      "metadata": {
        "id": "11MehCNQinZB",
        "colab": {
          "base_uri": "https://localhost:8080/"
        },
        "outputId": "756854c2-8ddc-4e97-8af0-02ee5f61f3fd"
      },
      "source": [
        "response(\"what do you sell?\")"
      ],
      "execution_count": null,
      "outputs": [
        {
          "output_type": "stream",
          "name": "stdout",
          "text": [
            "Our Services is providing Internet Package Connection through Home and Appartemen\n"
          ]
        }
      ]
    }
  ]
}